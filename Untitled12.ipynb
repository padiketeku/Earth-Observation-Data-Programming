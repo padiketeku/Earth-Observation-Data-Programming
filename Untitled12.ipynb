{
  "nbformat": 4,
  "nbformat_minor": 0,
  "metadata": {
    "colab": {
      "provenance": [],
      "authorship_tag": "ABX9TyOzrKpqXGRfBNpSqenlEJHH",
      "include_colab_link": true
    },
    "kernelspec": {
      "name": "python3",
      "display_name": "Python 3"
    },
    "language_info": {
      "name": "python"
    }
  },
  "cells": [
    {
      "cell_type": "markdown",
      "metadata": {
        "id": "view-in-github",
        "colab_type": "text"
      },
      "source": [
        "<a href=\"https://colab.research.google.com/github/padiketeku/Earth-Observation-Data-Programming/blob/main/Untitled12.ipynb\" target=\"_parent\"><img src=\"https://colab.research.google.com/assets/colab-badge.svg\" alt=\"Open In Colab\"/></a>"
      ]
    },
    {
      "cell_type": "markdown",
      "source": [],
      "metadata": {
        "id": "_d-TZQzZr-g-"
      }
    },
    {
      "cell_type": "markdown",
      "source": [
        "# Support vector machine classification workflow"
      ],
      "metadata": {
        "id": "s5iKQaAAsLy0"
      }
    },
    {
      "cell_type": "markdown",
      "source": [
        "## Acknowledgement\n",
        "\n",
        "Kaggle developers\\\n",
        "Google developers"
      ],
      "metadata": {
        "id": "k5ADWYU-sKFd"
      }
    },
    {
      "cell_type": "markdown",
      "source": [
        "## Set up working directory"
      ],
      "metadata": {
        "id": "z2zfNm_yrNW_"
      }
    },
    {
      "cell_type": "code",
      "execution_count": 1,
      "metadata": {
        "colab": {
          "base_uri": "https://localhost:8080/"
        },
        "id": "7K--oYu1rHlA",
        "outputId": "7cf0f0e6-5a3a-4e7f-ccc6-a4fec2631d8f"
      },
      "outputs": [
        {
          "output_type": "stream",
          "name": "stdout",
          "text": [
            "Mounted at /content/gdrive\n"
          ]
        }
      ],
      "source": [
        "#mount Google Drive\n",
        "from google.colab import drive\n",
        "drive.mount('/content/gdrive', force_remount=True)\n",
        "\n",
        "\n",
        "# change the directory to the appropriate working directory\n",
        "import os\n",
        "\n",
        "#change working directory\n",
        "os.chdir('/content/gdrive/MyDrive/data/machineLearning')\n"
      ]
    },
    {
      "cell_type": "markdown",
      "source": [
        "## Import libraries for the task"
      ],
      "metadata": {
        "id": "KUOe5lRArpOV"
      }
    },
    {
      "cell_type": "code",
      "source": [
        "# Importing pandas and numpy for data manipulation\n",
        "import pandas as pd\n",
        "import numpy as np\n",
        "\n",
        "# Importing seaborn and matplotlib for data visualization\n",
        "import seaborn as sns\n",
        "import matplotlib.pyplot as plt\n",
        "\n",
        "# Importing PIL for image processing\n",
        "from PIL import Image\n",
        "\n",
        "# Importing tqdm to visualize progress bars\n",
        "from tqdm import tqdm\n",
        "\n",
        "# Importing scikit-learn modules for preprocessing, modeling, and evaluation\n",
        "from sklearn.utils import shuffle\n",
        "from sklearn.decomposition import PCA\n",
        "from sklearn.svm import SVC\n",
        "from sklearn.metrics import classification_report, confusion_matrix\n",
        "from sklearn.model_selection import train_test_split\n",
        "\n",
        "# Importing CNN\n",
        "import tensorflow as tf\n",
        "from tensorflow.keras import layers, models"
      ],
      "metadata": {
        "id": "xCNpD2fArXCH"
      },
      "execution_count": null,
      "outputs": []
    }
  ]
}