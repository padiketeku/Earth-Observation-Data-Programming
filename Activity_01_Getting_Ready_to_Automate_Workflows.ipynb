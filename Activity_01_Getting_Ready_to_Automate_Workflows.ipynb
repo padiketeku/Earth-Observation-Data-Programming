{
  "nbformat": 4,
  "nbformat_minor": 0,
  "metadata": {
    "colab": {
      "provenance": [],
      "authorship_tag": "ABX9TyOXyLG6N5DGAKUEPsdAhmlw",
      "include_colab_link": true
    },
    "kernelspec": {
      "name": "python3",
      "display_name": "Python 3"
    },
    "language_info": {
      "name": "python"
    }
  },
  "cells": [
    {
      "cell_type": "markdown",
      "metadata": {
        "id": "view-in-github",
        "colab_type": "text"
      },
      "source": [
        "<a href=\"https://colab.research.google.com/github/padiketeku/Earth-Observation-Data-Programming/blob/main/Activity_01_Getting_Ready_to_Automate_Workflows.ipynb\" target=\"_parent\"><img src=\"https://colab.research.google.com/assets/colab-badge.svg\" alt=\"Open In Colab\"/></a>"
      ]
    },
    {
      "cell_type": "markdown",
      "source": [
        "# Getting Ready to Automate Workflows\n",
        "************************************************\n",
        "Individuals may perform remote sensing tasks, but many users may use the output, sharing it with team members, the organisation, or the public to benefit. Automating the workflow ensures the output is readily modifiable and available to stakeholders. Careful planning is required to use the appropriate EO data, programming software, and output formats.   <br>\n",
        "\n",
        "The learning outcomes include:\n",
        "\n",
        "- Review standard satellite sytems associated with Earth observation science\n",
        "\n",
        "- Evaluate the attributes of Earth observation data programming\n",
        "\n",
        "- Explore EO data portals\n",
        "\n",
        "- Justify Jupyter Notebook and Google Colab for EO data programming\n",
        "\n",
        "*************************************************************************\n",
        "\n",
        "## What is Earth Observation?\n",
        "\n",
        "If you google search **Earth Observation**, one of the definitions is that:\n",
        "\n",
        "*Earth Observation (EO) is the process of gathering information about the Earth’s surface, waters and atmosphere via ground-based, airborne and/or satellite remote sensing platforms.*\n",
        "\n",
        "The data collected from EO platforms have wide applications, including natural disaster management, urban planning, weather and climate monitoring, land use and land cover monitoring, food security, etc.\n",
        "\n",
        "From the definition, EO data can be collected from different platforms. However, the unit mainly explores EO data collected through satellites, which is the most cost-efficient, especially non-commercial satellites.\n",
        "\n",
        "## Satellites\n",
        "\n",
        "Satellite missions have catapulted the preponderance and availability of EO data, providing substantial opportunities for stakeholders. The popular satellites producing data for public use are Landsat and Sentinel.\n",
        "Landsat has been running since the early 70s, while the Sentinel satellites have operated since 2013. Watch this YouTube video on the brief history of Landsat satellites:\n",
        "\n",
        " https://www.youtube.com/watch?v=M_263U_ovkQ\n",
        "\n",
        "\n",
        "Satellites are producing intensive and extensive data culminating in big data, which requires supercomputers, cloud computing facilities, and programmers to leverage the enormous potential associated with this data for a better understanding of our environment.\n",
        "\n",
        "## Earth observation data programming\n",
        "\n",
        "Earth observation data programmers are highly sought-after people in many industries. So, what is Earth Observation Data Programming? Again, you may see multiple definitions if you look this up online. The commonality in the definitions is that EO data programming is an intersection of EO science and computer programming.\n",
        "\n",
        "### Attributes of EO data programming\n",
        "\n",
        "- Sourcing EO data\n",
        "\n",
        "EO data is plentiful, but not all is available at zero fee or for purchase. Thus, an EO data programmer should know where to obtain EO data, especially freely available ones. Luckily, many of the portals for satellite data are open source and free for teaching and research. These EO data portals include USGS, Copernicus Data Space Ecosystem, and Google Earth Engine. If the study area is in Australia, analysis-ready satellite imagery can be obtained from the National Computational Infrastructure.\n",
        "\n",
        "Exploring the data portals\n",
        "\n",
        "You can explore the data portals anonymously or using a registered account. However, it is recommended that you create an account if you are a new user to leverage the resources fully. Existing users may log in to their accounts to use the portal. The user interface of the EO data portals is different in design but similar in function. Regardless of the portal in question, you almost always require the geometry of your study area (a point or polygon), the sensor, and the acquisition dates of interest. The portal allows users to manually draw the geometry or go to their local computers to upload the geometry, denoting the study area, into the portal. The portals have drop-downs for selecting the satellite (or dataset) and slots for specifying the date range (start and end dates). Options for filtering the search are usually available to the user. Let's review USGS and Copernicus.\n",
        "\n",
        "\n",
        "**USGS**\n",
        "\n",
        "Click the hyperlink below. <br>\n",
        "[USGS EarthExplorer](https://earthexplorer.usgs.gov/) : This is a major portal for accessing and downloading Landsat imagery.\n",
        "\n",
        "\n",
        "**Copernicus Data Space Ecosystem**\n",
        "\n",
        "Click the hyperlink below. <br>\n",
        "\n",
        "[Copernicus Data Space Ecosystem](https://dataspace.copernicus.eu/) : This is another open ecosystem designed for users to access data from the Copernicus Sentinel satellites.\n",
        "\n",
        "The Copernicus data has been regionalised for effective management. In Australia, the Sentinel Australasia Regional Access(SARA) is available.\n",
        "\n",
        "**Australian National Computational Infrastruture**\n",
        "\n",
        "\n",
        "When you visit the SARA site (https://copernicus.nci.org.au/sara.client/#/home) you may see the folloiwng information describing the portal is given.\n",
        "\n",
        "*SARA provides free access to data from all Sentinel satellites for the South-East Asia and South Pacific region. SARA is hosted at the National Computational Infrastructure and operated by the Copernicus Australasia Regional Data Hub consortium formed by Geoscience Australia, the New South Wales Department of Planning, Industry and Environment, Queensland Department of Environment and Science, Western Australian Land Information Authority and the Commonwealth Scientific Industrial Research Organisation.*\n",
        "\n",
        "- Programming software\n",
        "\n",
        "The EO data can be imagery or non-imagery. However, remote sensing imagery is commonly used, and the format is usually GeoTIFF or netCDF. Once you have your EO data, you can preprocess, analyse, or visualise this. There are many programming software to do this; the most widely used is Python. Read more about Python [here](https://www.python.org/doc/essays/blurb/).\n",
        "\n",
        "Python 3 will be used in this unit. Python is open source and free to use. Many Integrated Development Environments (IDE) exist for Python. However, Jupyter Notebook (JN) will be used, so we can integrate code and text more professionally. You may use another IDE, but the unit only supports students using the JN environment and Windows.\n",
        "\n",
        "\n",
        "**Google Colab**\n",
        "\n",
        "Google Colaboratory, Colab for short, is a hosted JN service that requires NO setup to use and provides free access to computing resources, including GPU and TPU ([Google,2025](https://colab.google/)). Think of the GC as JN online, supporting the integration of Cloud Computing in EO science. Colab is ideal for data science, supporting machine learning and deep learning projects. Colab supports Python scripting and EO data analysis, and hence, the IDE for the unit.\n",
        "\n",
        "\n",
        "*Optionally, if you prefer JN on your local computer download and install the Anaconda Distribution. Click [here](https://www.anaconda.com/docs/getting-started/anaconda/install#windows-installation) to follow the instructions to download and install the Anaconda Distribution for your operating system.*\n",
        "\n",
        "Click [Introduction to Colab](https://github.com/padiketeku/Earth-Observation-Data-Programming/blob/main/Activity%2001-%20Introduction%20to%20Google%20Colab.md) to work through the Colab interface.\n",
        "\n",
        "\n",
        "**Google Drive**\n",
        "\n",
        "Google provides 15GB of free cloud storage space, which extends the capability of Colab. Colab scripts can be saved to GDrive, and data in GDrive can be uploaded to Colab.\n",
        "\n",
        "\n"
      ],
      "metadata": {
        "id": "Hj7v8WEwOkAy"
      }
    },
    {
      "cell_type": "code",
      "source": [],
      "metadata": {
        "id": "67ENDEpFSdH8"
      },
      "execution_count": null,
      "outputs": []
    },
    {
      "cell_type": "markdown",
      "source": [],
      "metadata": {
        "id": "BynV1t1WFkxx"
      }
    }
  ]
}