{
  "nbformat": 4,
  "nbformat_minor": 0,
  "metadata": {
    "colab": {
      "provenance": [],
      "authorship_tag": "ABX9TyOTyKD/Pb0074Gmkr5TA9Ba",
      "include_colab_link": true
    },
    "kernelspec": {
      "name": "python3",
      "display_name": "Python 3"
    },
    "language_info": {
      "name": "python"
    }
  },
  "cells": [
    {
      "cell_type": "markdown",
      "metadata": {
        "id": "view-in-github",
        "colab_type": "text"
      },
      "source": [
        "<a href=\"https://colab.research.google.com/github/padiketeku/Earth-Observation-Data-Programming/blob/main/Activity_2_Exploring_EE_in_COLAB.ipynb\" target=\"_parent\"><img src=\"https://colab.research.google.com/assets/colab-badge.svg\" alt=\"Open In Colab\"/></a>"
      ]
    },
    {
      "cell_type": "markdown",
      "source": [
        "# Activity 2- Exploring earth engine in COLAB"
      ],
      "metadata": {
        "id": "PzmQIPCISrm0"
      }
    },
    {
      "cell_type": "code",
      "execution_count": 55,
      "metadata": {
        "id": "hyBRvo7e_A9F"
      },
      "outputs": [],
      "source": [
        "# import required pandas and geopandas\n",
        "import pandas as pd\n",
        "import geopandas as gpd\n",
        "\n",
        "# import earth engine\n",
        "import ee\n",
        "\n",
        "# allow images to display in the notebook\n",
        "from IPython.display import Image"
      ]
    },
    {
      "cell_type": "code",
      "source": [],
      "metadata": {
        "id": "jaXJVBiR_wF6"
      },
      "execution_count": 20,
      "outputs": []
    },
    {
      "cell_type": "markdown",
      "source": [
        "## Autheticate Earth Engine\n",
        "\n",
        "1.   You need your Earth Engine project ID, which you can obtain from Assets\n",
        "2. The project ID is the argument for the ee.Initialize()\n",
        "\n"
      ],
      "metadata": {
        "id": "uMUoaECNQ-un"
      }
    },
    {
      "cell_type": "code",
      "source": [
        "# Trigger the authentication command.\n",
        "ee.Authenticate()\n",
        "\n",
        "# Initialize the library.\n",
        "ee.Initialize(project='ee-racrabbe3')"
      ],
      "metadata": {
        "id": "i2zLfFtYRIuW"
      },
      "execution_count": 21,
      "outputs": []
    },
    {
      "cell_type": "markdown",
      "source": [
        "## Set up objects to filter the image collection"
      ],
      "metadata": {
        "id": "uBPPiExnTJ7M"
      }
    },
    {
      "cell_type": "code",
      "source": [
        "# coordinates of the Camp Fire\n",
        "lat =  39.444012\n",
        "lon = -121.833619\n",
        "\n",
        "# point of interest as an ee.Geometry\n",
        "poi = ee.Geometry.Point(lon,lat)\n",
        "\n",
        "# start date of range to filter for\n",
        "start_date = '2018-10-01'\n",
        "\n",
        "# end date\n",
        "end_date = '2019-01-31'"
      ],
      "metadata": {
        "id": "2lN4edOsTcsC"
      },
      "execution_count": 22,
      "outputs": []
    },
    {
      "cell_type": "markdown",
      "source": [
        "## Collect the Landsat image from Earth Engine and filter this"
      ],
      "metadata": {
        "id": "PG5gdJ4NThHC"
      }
    },
    {
      "cell_type": "code",
      "source": [
        "# get the landsat 8 image collection\n",
        "landsat = ee.ImageCollection(\"LANDSAT/LC08/C02/T1_L2\")\\\n",
        "            .filterBounds(poi)\\\n",
        "            .filterDate(start_date,end_date)"
      ],
      "metadata": {
        "id": "SaWTYkgPTvmK"
      },
      "execution_count": 23,
      "outputs": []
    },
    {
      "cell_type": "markdown",
      "source": [
        "This is an image collection, which means that more than one image file is available to work with. You may want to know the exact number of images in the collect. To do this, use **size** method. The **getInfo()** methods would alse be used to retrieve the computed value from the server."
      ],
      "metadata": {
        "id": "qHhwtWZBUIO_"
      }
    },
    {
      "cell_type": "code",
      "source": [
        "# print the number of images in the collection\n",
        "print('Total number:', landsat.size().getInfo())"
      ],
      "metadata": {
        "colab": {
          "base_uri": "https://localhost:8080/"
        },
        "id": "53mFEs6TUgAM",
        "outputId": "1b74b8cd-370c-4023-8efc-ea66d9b30e00"
      },
      "execution_count": 26,
      "outputs": [
        {
          "output_type": "stream",
          "name": "stdout",
          "text": [
            "Total number: 8\n"
          ]
        }
      ]
    },
    {
      "cell_type": "markdown",
      "source": [
        "The collection has 8 images."
      ],
      "metadata": {
        "id": "QTUuIwa2aY2m"
      }
    },
    {
      "cell_type": "markdown",
      "source": [
        "Also, it is ideal to know the spectral bands making up the image. Once you see the bands google search \"Landsat 8 bands\" so you can explain each bands, noting relevant and less relevant bands for a typical remote sensing project."
      ],
      "metadata": {
        "id": "vPHsHCgfc1ck"
      }
    },
    {
      "cell_type": "code",
      "source": [
        "# find the spectral bands\n",
        "landsat.first().bandNames().getInfo()"
      ],
      "metadata": {
        "colab": {
          "base_uri": "https://localhost:8080/"
        },
        "id": "H7_kFbFSdGrc",
        "outputId": "c1b272e1-1422-4581-a98b-d1405578549c"
      },
      "execution_count": 31,
      "outputs": [
        {
          "output_type": "execute_result",
          "data": {
            "text/plain": [
              "['SR_B1',\n",
              " 'SR_B2',\n",
              " 'SR_B3',\n",
              " 'SR_B4',\n",
              " 'SR_B5',\n",
              " 'SR_B6',\n",
              " 'SR_B7',\n",
              " 'SR_QA_AEROSOL',\n",
              " 'ST_B10',\n",
              " 'ST_ATRAN',\n",
              " 'ST_CDIST',\n",
              " 'ST_DRAD',\n",
              " 'ST_EMIS',\n",
              " 'ST_EMSD',\n",
              " 'ST_QA',\n",
              " 'ST_TRAD',\n",
              " 'ST_URAD',\n",
              " 'QA_PIXEL',\n",
              " 'QA_RADSAT']"
            ]
          },
          "metadata": {},
          "execution_count": 31
        }
      ]
    },
    {
      "cell_type": "markdown",
      "source": [
        "Another information you may be curious about is the acquisition date. For instance, you would like to know the acquisition date for the first image in the collection."
      ],
      "metadata": {
        "id": "Ov7rpnDRWMo4"
      }
    },
    {
      "cell_type": "code",
      "source": [
        "# acquisition date for the first image in the collection\n",
        "landsat.first().get('DATE_ACQUIRED').getInfo()"
      ],
      "metadata": {
        "colab": {
          "base_uri": "https://localhost:8080/",
          "height": 35
        },
        "id": "ilvxa3sxWtd8",
        "outputId": "0dd0bb6b-f4aa-4dfc-c2e8-91ea4472b9a9"
      },
      "execution_count": 27,
      "outputs": [
        {
          "output_type": "execute_result",
          "data": {
            "text/plain": [
              "'2018-10-07'"
            ],
            "application/vnd.google.colaboratory.intrinsic+json": {
              "type": "string"
            }
          },
          "metadata": {},
          "execution_count": 27
        }
      ]
    },
    {
      "cell_type": "markdown",
      "source": [
        "The first image was acquired on the 7th October 2018"
      ],
      "metadata": {
        "id": "tKqMx8z5av42"
      }
    },
    {
      "cell_type": "markdown",
      "source": [
        "## Cloud cover in multispectral optical imagery\n",
        "\n",
        "> Add blockquote\n",
        "\n"
      ],
      "metadata": {
        "id": "MkrCoHUWZLHC"
      }
    },
    {
      "cell_type": "markdown",
      "source": [
        "We did not filter the collection by cloud cover. Since cloud cover is a major issue in optical remote sensing, you may want to have an idea on the amount of cloud cover in the image. This helps you to gauge the quality of the image, and hence decide whether to use it straight away, discard it or mask the pixels affected by cloud cover before application."
      ],
      "metadata": {
        "id": "DCDgZ7MwYLIs"
      }
    },
    {
      "cell_type": "code",
      "source": [
        "# check the cloud cover\n",
        "landsat.first().get('CLOUD_COVER_LAND').getInfo()"
      ],
      "metadata": {
        "colab": {
          "base_uri": "https://localhost:8080/"
        },
        "id": "4ClJkRm9ZH0y",
        "outputId": "1ecc3892-15a2-459a-84a9-72347c3a0fc3"
      },
      "execution_count": 30,
      "outputs": [
        {
          "output_type": "execute_result",
          "data": {
            "text/plain": [
              "0.05"
            ]
          },
          "metadata": {},
          "execution_count": 30
        }
      ]
    },
    {
      "cell_type": "markdown",
      "source": [
        "### Visualisation of the Landsat imagery\n",
        "\n",
        "You now know there are 8 images in the collection and the first image has 0.05% cloud cover. You may be wondering if the other images have similar, lower or higher percentage cloud cover. And you might even be more keen to know whether the cloud cover is affecting your study area. This is the time to visualise each image of the collection and assess cloud cover for each acquisition date.  "
      ],
      "metadata": {
        "id": "JIeswEz6esoq"
      }
    },
    {
      "cell_type": "code",
      "source": [
        "# put the images in a list\n",
        "landsat_list = landsat.toList(landsat.size());"
      ],
      "metadata": {
        "id": "wAgjhmrKe5SB"
      },
      "execution_count": 34,
      "outputs": []
    },
    {
      "cell_type": "code",
      "source": [
        "# set some parameters for the images\n",
        "parameters = {\n",
        "                'min': 7000,\n",
        "                'max': 16000,\n",
        "                'dimensions': 800, # square size in pixels\n",
        "                'bands': ['SR_B4', 'SR_B3', 'SR_B2'] # bands to display (r,g,b)\n",
        "             }"
      ],
      "metadata": {
        "id": "OlPgfInSe4Mp"
      },
      "execution_count": 35,
      "outputs": []
    },
    {
      "cell_type": "code",
      "source": [
        "# create an empty data container\n",
        "data = []\n",
        "\n",
        "# loop through each image and display it\n",
        "for i in range(landsat.size().getInfo()):\n",
        "\n",
        "    # when was this image taken?\n",
        "    date = ee.Image(landsat_list.get(i)).get('DATE_ACQUIRED').getInfo()\n",
        "\n",
        "    # cloud cover\n",
        "    cloud = ee.Image(landsat_list.get(i)).get('CLOUD_COVER_LAND').getInfo()\n",
        "\n",
        "    # print the image info\n",
        "    print('Image #',i,date,'Cloud cover:',cloud)\n",
        "\n",
        "    # display the image\n",
        "    display(Image(url = ee.Image(landsat_list.get(i)).getThumbUrl(parameters)))\n",
        "\n",
        "    # data to list\n",
        "    this_data = [i,date,cloud]\n",
        "\n",
        "    # append the data\n",
        "    data.append(this_data)\n",
        "\n",
        "\n"
      ],
      "metadata": {
        "colab": {
          "base_uri": "https://localhost:8080/",
          "height": 1000
        },
        "collapsed": true,
        "id": "U4GsNnv3fLFJ",
        "outputId": "d8a55030-535e-4f35-91b4-ce5bd2f59a53"
      },
      "execution_count": 37,
      "outputs": [
        {
          "output_type": "stream",
          "name": "stdout",
          "text": [
            "Image # 0 2018-10-07 Cloud cover: 0.05\n"
          ]
        },
        {
          "output_type": "display_data",
          "data": {
            "text/html": [
              "<img src=\"https://earthengine.googleapis.com/v1/projects/ee-racrabbe3/thumbnails/c16b9bcd0d866da4fe9f457f98e466d4-2466c825d1d3a2483d9391922138e779:getPixels\"/>"
            ],
            "text/plain": [
              "<IPython.core.display.Image object>"
            ]
          },
          "metadata": {}
        },
        {
          "output_type": "stream",
          "name": "stdout",
          "text": [
            "Image # 1 2018-10-23 Cloud cover: 73.03\n"
          ]
        },
        {
          "output_type": "display_data",
          "data": {
            "text/html": [
              "<img src=\"https://earthengine.googleapis.com/v1/projects/ee-racrabbe3/thumbnails/887170434afb21e18c32e4fb4d88859d-800e5ee30682ed146bffd2118775aca3:getPixels\"/>"
            ],
            "text/plain": [
              "<IPython.core.display.Image object>"
            ]
          },
          "metadata": {}
        },
        {
          "output_type": "stream",
          "name": "stdout",
          "text": [
            "Image # 2 2018-11-08 Cloud cover: 11.84\n"
          ]
        },
        {
          "output_type": "display_data",
          "data": {
            "text/html": [
              "<img src=\"https://earthengine.googleapis.com/v1/projects/ee-racrabbe3/thumbnails/97571ede1a6aa3bdadfa65033f044989-48f2532d72e24e54e5da0097a27a16e2:getPixels\"/>"
            ],
            "text/plain": [
              "<IPython.core.display.Image object>"
            ]
          },
          "metadata": {}
        },
        {
          "output_type": "stream",
          "name": "stdout",
          "text": [
            "Image # 3 2018-11-24 Cloud cover: 67.17\n"
          ]
        },
        {
          "output_type": "display_data",
          "data": {
            "text/html": [
              "<img src=\"https://earthengine.googleapis.com/v1/projects/ee-racrabbe3/thumbnails/f4ad728d7876f88e806db6f24ba80f18-8e1f868df38c32bcdaedb2dcf5eba3f5:getPixels\"/>"
            ],
            "text/plain": [
              "<IPython.core.display.Image object>"
            ]
          },
          "metadata": {}
        },
        {
          "output_type": "stream",
          "name": "stdout",
          "text": [
            "Image # 4 2018-12-10 Cloud cover: 56.08\n"
          ]
        },
        {
          "output_type": "display_data",
          "data": {
            "text/html": [
              "<img src=\"https://earthengine.googleapis.com/v1/projects/ee-racrabbe3/thumbnails/4693dbf0d02a690a70ea0ee782e3794d-0633cdc62e18cbf9410620ecaccd85f3:getPixels\"/>"
            ],
            "text/plain": [
              "<IPython.core.display.Image object>"
            ]
          },
          "metadata": {}
        },
        {
          "output_type": "stream",
          "name": "stdout",
          "text": [
            "Image # 5 2018-12-26 Cloud cover: 5.99\n"
          ]
        },
        {
          "output_type": "display_data",
          "data": {
            "text/html": [
              "<img src=\"https://earthengine.googleapis.com/v1/projects/ee-racrabbe3/thumbnails/a22c6940ee7b65a7ba6f40c2c83fe8b5-0dd80869fb41bff63102303c2a1b408d:getPixels\"/>"
            ],
            "text/plain": [
              "<IPython.core.display.Image object>"
            ]
          },
          "metadata": {}
        },
        {
          "output_type": "stream",
          "name": "stdout",
          "text": [
            "Image # 6 2019-01-11 Cloud cover: 80.06\n"
          ]
        },
        {
          "output_type": "display_data",
          "data": {
            "text/html": [
              "<img src=\"https://earthengine.googleapis.com/v1/projects/ee-racrabbe3/thumbnails/1deb719c4b55aaa3760f533bc5699d51-f86620c2b9d9e895b2356ca1a60a5f1f:getPixels\"/>"
            ],
            "text/plain": [
              "<IPython.core.display.Image object>"
            ]
          },
          "metadata": {}
        },
        {
          "output_type": "stream",
          "name": "stdout",
          "text": [
            "Image # 7 2019-01-27 Cloud cover: 5.19\n"
          ]
        },
        {
          "output_type": "display_data",
          "data": {
            "text/html": [
              "<img src=\"https://earthengine.googleapis.com/v1/projects/ee-racrabbe3/thumbnails/e8fafbaf9cced9af6505ba78e2eb31b5-77897090d2bd8df2d681835f3fba7967:getPixels\"/>"
            ],
            "text/plain": [
              "<IPython.core.display.Image object>"
            ]
          },
          "metadata": {}
        }
      ]
    },
    {
      "cell_type": "markdown",
      "source": [
        "**Question- which image (acquisition date) had the most cloud cover?**"
      ],
      "metadata": {
        "id": "CekXCFzujyeZ"
      }
    },
    {
      "cell_type": "markdown",
      "source": [
        "## Make an attribute table\n",
        "\n",
        "Aside from the images, you may want to create an attribute table for easy understanding of the data. We would create a table that shows the acquisition date and cloud cover for each image in the collection."
      ],
      "metadata": {
        "id": "RwkWDiIglFse"
      }
    },
    {
      "cell_type": "code",
      "source": [
        "# To make a table the pandas DataFrame is used\n",
        "df = pd.DataFrame(data, columns = ['Image #', 'Date', 'Cloud Cover'])\n",
        "\n",
        "# display the data frame\n",
        "df"
      ],
      "metadata": {
        "colab": {
          "base_uri": "https://localhost:8080/",
          "height": 300
        },
        "id": "3XLm16lukbHT",
        "outputId": "a7b63711-adbc-477e-94f4-23b51348fb50"
      },
      "execution_count": 41,
      "outputs": [
        {
          "output_type": "execute_result",
          "data": {
            "text/plain": [
              "   Image #        Date  Cloud Cover\n",
              "0        0  2018-10-07         0.05\n",
              "1        1  2018-10-23        73.03\n",
              "2        2  2018-11-08        11.84\n",
              "3        3  2018-11-24        67.17\n",
              "4        4  2018-12-10        56.08\n",
              "5        5  2018-12-26         5.99\n",
              "6        6  2019-01-11        80.06\n",
              "7        7  2019-01-27         5.19"
            ],
            "text/html": [
              "\n",
              "  <div id=\"df-e4189075-5c62-4e6b-bcc1-aec177c3690e\" class=\"colab-df-container\">\n",
              "    <div>\n",
              "<style scoped>\n",
              "    .dataframe tbody tr th:only-of-type {\n",
              "        vertical-align: middle;\n",
              "    }\n",
              "\n",
              "    .dataframe tbody tr th {\n",
              "        vertical-align: top;\n",
              "    }\n",
              "\n",
              "    .dataframe thead th {\n",
              "        text-align: right;\n",
              "    }\n",
              "</style>\n",
              "<table border=\"1\" class=\"dataframe\">\n",
              "  <thead>\n",
              "    <tr style=\"text-align: right;\">\n",
              "      <th></th>\n",
              "      <th>Image #</th>\n",
              "      <th>Date</th>\n",
              "      <th>Cloud Cover</th>\n",
              "    </tr>\n",
              "  </thead>\n",
              "  <tbody>\n",
              "    <tr>\n",
              "      <th>0</th>\n",
              "      <td>0</td>\n",
              "      <td>2018-10-07</td>\n",
              "      <td>0.05</td>\n",
              "    </tr>\n",
              "    <tr>\n",
              "      <th>1</th>\n",
              "      <td>1</td>\n",
              "      <td>2018-10-23</td>\n",
              "      <td>73.03</td>\n",
              "    </tr>\n",
              "    <tr>\n",
              "      <th>2</th>\n",
              "      <td>2</td>\n",
              "      <td>2018-11-08</td>\n",
              "      <td>11.84</td>\n",
              "    </tr>\n",
              "    <tr>\n",
              "      <th>3</th>\n",
              "      <td>3</td>\n",
              "      <td>2018-11-24</td>\n",
              "      <td>67.17</td>\n",
              "    </tr>\n",
              "    <tr>\n",
              "      <th>4</th>\n",
              "      <td>4</td>\n",
              "      <td>2018-12-10</td>\n",
              "      <td>56.08</td>\n",
              "    </tr>\n",
              "    <tr>\n",
              "      <th>5</th>\n",
              "      <td>5</td>\n",
              "      <td>2018-12-26</td>\n",
              "      <td>5.99</td>\n",
              "    </tr>\n",
              "    <tr>\n",
              "      <th>6</th>\n",
              "      <td>6</td>\n",
              "      <td>2019-01-11</td>\n",
              "      <td>80.06</td>\n",
              "    </tr>\n",
              "    <tr>\n",
              "      <th>7</th>\n",
              "      <td>7</td>\n",
              "      <td>2019-01-27</td>\n",
              "      <td>5.19</td>\n",
              "    </tr>\n",
              "  </tbody>\n",
              "</table>\n",
              "</div>\n",
              "    <div class=\"colab-df-buttons\">\n",
              "\n",
              "  <div class=\"colab-df-container\">\n",
              "    <button class=\"colab-df-convert\" onclick=\"convertToInteractive('df-e4189075-5c62-4e6b-bcc1-aec177c3690e')\"\n",
              "            title=\"Convert this dataframe to an interactive table.\"\n",
              "            style=\"display:none;\">\n",
              "\n",
              "  <svg xmlns=\"http://www.w3.org/2000/svg\" height=\"24px\" viewBox=\"0 -960 960 960\">\n",
              "    <path d=\"M120-120v-720h720v720H120Zm60-500h600v-160H180v160Zm220 220h160v-160H400v160Zm0 220h160v-160H400v160ZM180-400h160v-160H180v160Zm440 0h160v-160H620v160ZM180-180h160v-160H180v160Zm440 0h160v-160H620v160Z\"/>\n",
              "  </svg>\n",
              "    </button>\n",
              "\n",
              "  <style>\n",
              "    .colab-df-container {\n",
              "      display:flex;\n",
              "      gap: 12px;\n",
              "    }\n",
              "\n",
              "    .colab-df-convert {\n",
              "      background-color: #E8F0FE;\n",
              "      border: none;\n",
              "      border-radius: 50%;\n",
              "      cursor: pointer;\n",
              "      display: none;\n",
              "      fill: #1967D2;\n",
              "      height: 32px;\n",
              "      padding: 0 0 0 0;\n",
              "      width: 32px;\n",
              "    }\n",
              "\n",
              "    .colab-df-convert:hover {\n",
              "      background-color: #E2EBFA;\n",
              "      box-shadow: 0px 1px 2px rgba(60, 64, 67, 0.3), 0px 1px 3px 1px rgba(60, 64, 67, 0.15);\n",
              "      fill: #174EA6;\n",
              "    }\n",
              "\n",
              "    .colab-df-buttons div {\n",
              "      margin-bottom: 4px;\n",
              "    }\n",
              "\n",
              "    [theme=dark] .colab-df-convert {\n",
              "      background-color: #3B4455;\n",
              "      fill: #D2E3FC;\n",
              "    }\n",
              "\n",
              "    [theme=dark] .colab-df-convert:hover {\n",
              "      background-color: #434B5C;\n",
              "      box-shadow: 0px 1px 3px 1px rgba(0, 0, 0, 0.15);\n",
              "      filter: drop-shadow(0px 1px 2px rgba(0, 0, 0, 0.3));\n",
              "      fill: #FFFFFF;\n",
              "    }\n",
              "  </style>\n",
              "\n",
              "    <script>\n",
              "      const buttonEl =\n",
              "        document.querySelector('#df-e4189075-5c62-4e6b-bcc1-aec177c3690e button.colab-df-convert');\n",
              "      buttonEl.style.display =\n",
              "        google.colab.kernel.accessAllowed ? 'block' : 'none';\n",
              "\n",
              "      async function convertToInteractive(key) {\n",
              "        const element = document.querySelector('#df-e4189075-5c62-4e6b-bcc1-aec177c3690e');\n",
              "        const dataTable =\n",
              "          await google.colab.kernel.invokeFunction('convertToInteractive',\n",
              "                                                    [key], {});\n",
              "        if (!dataTable) return;\n",
              "\n",
              "        const docLinkHtml = 'Like what you see? Visit the ' +\n",
              "          '<a target=\"_blank\" href=https://colab.research.google.com/notebooks/data_table.ipynb>data table notebook</a>'\n",
              "          + ' to learn more about interactive tables.';\n",
              "        element.innerHTML = '';\n",
              "        dataTable['output_type'] = 'display_data';\n",
              "        await google.colab.output.renderOutput(dataTable, element);\n",
              "        const docLink = document.createElement('div');\n",
              "        docLink.innerHTML = docLinkHtml;\n",
              "        element.appendChild(docLink);\n",
              "      }\n",
              "    </script>\n",
              "  </div>\n",
              "\n",
              "\n",
              "    <div id=\"df-15a64282-07d4-4179-982b-0033fe808ebf\">\n",
              "      <button class=\"colab-df-quickchart\" onclick=\"quickchart('df-15a64282-07d4-4179-982b-0033fe808ebf')\"\n",
              "                title=\"Suggest charts\"\n",
              "                style=\"display:none;\">\n",
              "\n",
              "<svg xmlns=\"http://www.w3.org/2000/svg\" height=\"24px\"viewBox=\"0 0 24 24\"\n",
              "     width=\"24px\">\n",
              "    <g>\n",
              "        <path d=\"M19 3H5c-1.1 0-2 .9-2 2v14c0 1.1.9 2 2 2h14c1.1 0 2-.9 2-2V5c0-1.1-.9-2-2-2zM9 17H7v-7h2v7zm4 0h-2V7h2v10zm4 0h-2v-4h2v4z\"/>\n",
              "    </g>\n",
              "</svg>\n",
              "      </button>\n",
              "\n",
              "<style>\n",
              "  .colab-df-quickchart {\n",
              "      --bg-color: #E8F0FE;\n",
              "      --fill-color: #1967D2;\n",
              "      --hover-bg-color: #E2EBFA;\n",
              "      --hover-fill-color: #174EA6;\n",
              "      --disabled-fill-color: #AAA;\n",
              "      --disabled-bg-color: #DDD;\n",
              "  }\n",
              "\n",
              "  [theme=dark] .colab-df-quickchart {\n",
              "      --bg-color: #3B4455;\n",
              "      --fill-color: #D2E3FC;\n",
              "      --hover-bg-color: #434B5C;\n",
              "      --hover-fill-color: #FFFFFF;\n",
              "      --disabled-bg-color: #3B4455;\n",
              "      --disabled-fill-color: #666;\n",
              "  }\n",
              "\n",
              "  .colab-df-quickchart {\n",
              "    background-color: var(--bg-color);\n",
              "    border: none;\n",
              "    border-radius: 50%;\n",
              "    cursor: pointer;\n",
              "    display: none;\n",
              "    fill: var(--fill-color);\n",
              "    height: 32px;\n",
              "    padding: 0;\n",
              "    width: 32px;\n",
              "  }\n",
              "\n",
              "  .colab-df-quickchart:hover {\n",
              "    background-color: var(--hover-bg-color);\n",
              "    box-shadow: 0 1px 2px rgba(60, 64, 67, 0.3), 0 1px 3px 1px rgba(60, 64, 67, 0.15);\n",
              "    fill: var(--button-hover-fill-color);\n",
              "  }\n",
              "\n",
              "  .colab-df-quickchart-complete:disabled,\n",
              "  .colab-df-quickchart-complete:disabled:hover {\n",
              "    background-color: var(--disabled-bg-color);\n",
              "    fill: var(--disabled-fill-color);\n",
              "    box-shadow: none;\n",
              "  }\n",
              "\n",
              "  .colab-df-spinner {\n",
              "    border: 2px solid var(--fill-color);\n",
              "    border-color: transparent;\n",
              "    border-bottom-color: var(--fill-color);\n",
              "    animation:\n",
              "      spin 1s steps(1) infinite;\n",
              "  }\n",
              "\n",
              "  @keyframes spin {\n",
              "    0% {\n",
              "      border-color: transparent;\n",
              "      border-bottom-color: var(--fill-color);\n",
              "      border-left-color: var(--fill-color);\n",
              "    }\n",
              "    20% {\n",
              "      border-color: transparent;\n",
              "      border-left-color: var(--fill-color);\n",
              "      border-top-color: var(--fill-color);\n",
              "    }\n",
              "    30% {\n",
              "      border-color: transparent;\n",
              "      border-left-color: var(--fill-color);\n",
              "      border-top-color: var(--fill-color);\n",
              "      border-right-color: var(--fill-color);\n",
              "    }\n",
              "    40% {\n",
              "      border-color: transparent;\n",
              "      border-right-color: var(--fill-color);\n",
              "      border-top-color: var(--fill-color);\n",
              "    }\n",
              "    60% {\n",
              "      border-color: transparent;\n",
              "      border-right-color: var(--fill-color);\n",
              "    }\n",
              "    80% {\n",
              "      border-color: transparent;\n",
              "      border-right-color: var(--fill-color);\n",
              "      border-bottom-color: var(--fill-color);\n",
              "    }\n",
              "    90% {\n",
              "      border-color: transparent;\n",
              "      border-bottom-color: var(--fill-color);\n",
              "    }\n",
              "  }\n",
              "</style>\n",
              "\n",
              "      <script>\n",
              "        async function quickchart(key) {\n",
              "          const quickchartButtonEl =\n",
              "            document.querySelector('#' + key + ' button');\n",
              "          quickchartButtonEl.disabled = true;  // To prevent multiple clicks.\n",
              "          quickchartButtonEl.classList.add('colab-df-spinner');\n",
              "          try {\n",
              "            const charts = await google.colab.kernel.invokeFunction(\n",
              "                'suggestCharts', [key], {});\n",
              "          } catch (error) {\n",
              "            console.error('Error during call to suggestCharts:', error);\n",
              "          }\n",
              "          quickchartButtonEl.classList.remove('colab-df-spinner');\n",
              "          quickchartButtonEl.classList.add('colab-df-quickchart-complete');\n",
              "        }\n",
              "        (() => {\n",
              "          let quickchartButtonEl =\n",
              "            document.querySelector('#df-15a64282-07d4-4179-982b-0033fe808ebf button');\n",
              "          quickchartButtonEl.style.display =\n",
              "            google.colab.kernel.accessAllowed ? 'block' : 'none';\n",
              "        })();\n",
              "      </script>\n",
              "    </div>\n",
              "\n",
              "  <div id=\"id_14ade010-15c4-4381-ae8f-c151fba3acb9\">\n",
              "    <style>\n",
              "      .colab-df-generate {\n",
              "        background-color: #E8F0FE;\n",
              "        border: none;\n",
              "        border-radius: 50%;\n",
              "        cursor: pointer;\n",
              "        display: none;\n",
              "        fill: #1967D2;\n",
              "        height: 32px;\n",
              "        padding: 0 0 0 0;\n",
              "        width: 32px;\n",
              "      }\n",
              "\n",
              "      .colab-df-generate:hover {\n",
              "        background-color: #E2EBFA;\n",
              "        box-shadow: 0px 1px 2px rgba(60, 64, 67, 0.3), 0px 1px 3px 1px rgba(60, 64, 67, 0.15);\n",
              "        fill: #174EA6;\n",
              "      }\n",
              "\n",
              "      [theme=dark] .colab-df-generate {\n",
              "        background-color: #3B4455;\n",
              "        fill: #D2E3FC;\n",
              "      }\n",
              "\n",
              "      [theme=dark] .colab-df-generate:hover {\n",
              "        background-color: #434B5C;\n",
              "        box-shadow: 0px 1px 3px 1px rgba(0, 0, 0, 0.15);\n",
              "        filter: drop-shadow(0px 1px 2px rgba(0, 0, 0, 0.3));\n",
              "        fill: #FFFFFF;\n",
              "      }\n",
              "    </style>\n",
              "    <button class=\"colab-df-generate\" onclick=\"generateWithVariable('df')\"\n",
              "            title=\"Generate code using this dataframe.\"\n",
              "            style=\"display:none;\">\n",
              "\n",
              "  <svg xmlns=\"http://www.w3.org/2000/svg\" height=\"24px\"viewBox=\"0 0 24 24\"\n",
              "       width=\"24px\">\n",
              "    <path d=\"M7,19H8.4L18.45,9,17,7.55,7,17.6ZM5,21V16.75L18.45,3.32a2,2,0,0,1,2.83,0l1.4,1.43a1.91,1.91,0,0,1,.58,1.4,1.91,1.91,0,0,1-.58,1.4L9.25,21ZM18.45,9,17,7.55Zm-12,3A5.31,5.31,0,0,0,4.9,8.1,5.31,5.31,0,0,0,1,6.5,5.31,5.31,0,0,0,4.9,4.9,5.31,5.31,0,0,0,6.5,1,5.31,5.31,0,0,0,8.1,4.9,5.31,5.31,0,0,0,12,6.5,5.46,5.46,0,0,0,6.5,12Z\"/>\n",
              "  </svg>\n",
              "    </button>\n",
              "    <script>\n",
              "      (() => {\n",
              "      const buttonEl =\n",
              "        document.querySelector('#id_14ade010-15c4-4381-ae8f-c151fba3acb9 button.colab-df-generate');\n",
              "      buttonEl.style.display =\n",
              "        google.colab.kernel.accessAllowed ? 'block' : 'none';\n",
              "\n",
              "      buttonEl.onclick = () => {\n",
              "        google.colab.notebook.generateWithVariable('df');\n",
              "      }\n",
              "      })();\n",
              "    </script>\n",
              "  </div>\n",
              "\n",
              "    </div>\n",
              "  </div>\n"
            ],
            "application/vnd.google.colaboratory.intrinsic+json": {
              "type": "dataframe",
              "variable_name": "df",
              "summary": "{\n  \"name\": \"df\",\n  \"rows\": 8,\n  \"fields\": [\n    {\n      \"column\": \"Image #\",\n      \"properties\": {\n        \"dtype\": \"number\",\n        \"std\": 2,\n        \"min\": 0,\n        \"max\": 7,\n        \"num_unique_values\": 8,\n        \"samples\": [\n          1,\n          5,\n          0\n        ],\n        \"semantic_type\": \"\",\n        \"description\": \"\"\n      }\n    },\n    {\n      \"column\": \"Date\",\n      \"properties\": {\n        \"dtype\": \"object\",\n        \"num_unique_values\": 8,\n        \"samples\": [\n          \"2018-10-23\",\n          \"2018-12-26\",\n          \"2018-10-07\"\n        ],\n        \"semantic_type\": \"\",\n        \"description\": \"\"\n      }\n    },\n    {\n      \"column\": \"Cloud Cover\",\n      \"properties\": {\n        \"dtype\": \"number\",\n        \"std\": 34.63476904478669,\n        \"min\": 0.05,\n        \"max\": 80.06,\n        \"num_unique_values\": 8,\n        \"samples\": [\n          73.03,\n          5.99,\n          0.05\n        ],\n        \"semantic_type\": \"\",\n        \"description\": \"\"\n      }\n    }\n  ]\n}"
            }
          },
          "metadata": {},
          "execution_count": 41
        }
      ]
    },
    {
      "cell_type": "markdown",
      "source": [],
      "metadata": {
        "id": "WJpJ8VA1mw7F"
      }
    },
    {
      "cell_type": "markdown",
      "source": [
        "## Select and zoom images\n",
        "\n",
        "Now that we have inspected our collection of images, we can pick and choose which ones are relevant for our study. Ideally, we want to have images for before and after the fire to be able to assess the level of damage.\n",
        "\n",
        "We also want to create an ROI (region of interest) and zoom in to the area of interest. We do so by appying a 20km buffer around our POI."
      ],
      "metadata": {
        "id": "LQvDBfgnm5QP"
      }
    },
    {
      "cell_type": "code",
      "source": [
        "# create a list of images we want (before, during, after)\n",
        "landsat_sequence = [0,2,5]"
      ],
      "metadata": {
        "id": "53T91cW-nMGg"
      },
      "execution_count": 42,
      "outputs": []
    },
    {
      "cell_type": "code",
      "source": [
        "# Define a region of interest with a buffer zone of 20 km\n",
        "roi = poi.buffer(20000) # meters"
      ],
      "metadata": {
        "id": "aKswUw2WnPOa"
      },
      "execution_count": 44,
      "outputs": []
    },
    {
      "cell_type": "code",
      "source": [
        "parameters = {\n",
        "                'min': 6000,\n",
        "                'max': 16000,\n",
        "                'dimensions': 800,\n",
        "                'bands': ['SR_B4', 'SR_B3', 'SR_B2'],\n",
        "                'region':roi\n",
        "             }"
      ],
      "metadata": {
        "id": "Wq0ma5nDnTEU"
      },
      "execution_count": 45,
      "outputs": []
    },
    {
      "cell_type": "code",
      "source": [
        "for i in landsat_sequence:\n",
        "\n",
        "    # when was this image taken?\n",
        "    date = ee.Image(landsat_list.get(i)).get('DATE_ACQUIRED').getInfo()\n",
        "\n",
        "    # cloud cover\n",
        "    cloud = ee.Image(landsat_list.get(i)).get('CLOUD_COVER_LAND').getInfo()\n",
        "\n",
        "    print('Image #',i,date,'Cloud cover:',cloud)\n",
        "\n",
        "    display(Image(url = ee.Image(landsat_list.get(i)).getThumbUrl(parameters)))"
      ],
      "metadata": {
        "colab": {
          "base_uri": "https://localhost:8080/",
          "height": 1000
        },
        "id": "erZLNMtCnhlz",
        "outputId": "a93a95cf-3094-4f6f-c1e2-f8c0c568dd6f"
      },
      "execution_count": 46,
      "outputs": [
        {
          "output_type": "stream",
          "name": "stdout",
          "text": [
            "Image # 0 2018-10-07 Cloud cover: 0.05\n"
          ]
        },
        {
          "output_type": "display_data",
          "data": {
            "text/html": [
              "<img src=\"https://earthengine.googleapis.com/v1/projects/ee-racrabbe3/thumbnails/48d83823d6aaed9dc860e7a9ca7b7ae8-9ebdfcff8c80f51f847cedf102d0bbc7:getPixels\"/>"
            ],
            "text/plain": [
              "<IPython.core.display.Image object>"
            ]
          },
          "metadata": {}
        },
        {
          "output_type": "stream",
          "name": "stdout",
          "text": [
            "Image # 2 2018-11-08 Cloud cover: 11.84\n"
          ]
        },
        {
          "output_type": "display_data",
          "data": {
            "text/html": [
              "<img src=\"https://earthengine.googleapis.com/v1/projects/ee-racrabbe3/thumbnails/c0d523d161a7107c30f9c08ff27eb0c0-6e79d3502ac31e8a946330b7d20b9bfa:getPixels\"/>"
            ],
            "text/plain": [
              "<IPython.core.display.Image object>"
            ]
          },
          "metadata": {}
        },
        {
          "output_type": "stream",
          "name": "stdout",
          "text": [
            "Image # 5 2018-12-26 Cloud cover: 5.99\n"
          ]
        },
        {
          "output_type": "display_data",
          "data": {
            "text/html": [
              "<img src=\"https://earthengine.googleapis.com/v1/projects/ee-racrabbe3/thumbnails/b08865c766e47792ed1006ea38d73d39-e5ce4ab4fcb544f9eb86555cc7703dba:getPixels\"/>"
            ],
            "text/plain": [
              "<IPython.core.display.Image object>"
            ]
          },
          "metadata": {}
        }
      ]
    },
    {
      "cell_type": "markdown",
      "source": [
        "## NDVI Analysis"
      ],
      "metadata": {
        "id": "t6GzkKxupiux"
      }
    },
    {
      "cell_type": "code",
      "source": [
        "# ndvi palette: red is low, green is high vegetation\n",
        "palette = ['red', 'yellow', 'green']\n",
        "\n",
        "ndvi_parameters = {'min': 0,\n",
        "                   'max': 0.4,\n",
        "                   'dimensions': 512,\n",
        "                   'palette': palette,\n",
        "                   'region': roi}"
      ],
      "metadata": {
        "id": "8xptd1pypmal"
      },
      "execution_count": 47,
      "outputs": []
    },
    {
      "cell_type": "code",
      "source": [
        "for i in landsat_sequence:\n",
        "\n",
        "    # when was this image taken?\n",
        "    date = ee.Image(landsat_list.get(i)).get('DATE_ACQUIRED').getInfo()\n",
        "\n",
        "    # print some information\n",
        "    print('Image #',i,date)\n",
        "\n",
        "    # display the image\n",
        "    display(Image(url=ee.Image(landsat_list.get(i)).normalizedDifference(['SR_B5', 'SR_B4']).getThumbUrl(ndvi_parameters)))"
      ],
      "metadata": {
        "colab": {
          "base_uri": "https://localhost:8080/",
          "height": 1000
        },
        "id": "1axQt6wjpsHr",
        "outputId": "84d60453-26c3-4548-c2c6-f76479e0328a"
      },
      "execution_count": 48,
      "outputs": [
        {
          "output_type": "stream",
          "name": "stdout",
          "text": [
            "Image # 0 2018-10-07\n"
          ]
        },
        {
          "output_type": "display_data",
          "data": {
            "text/html": [
              "<img src=\"https://earthengine.googleapis.com/v1/projects/ee-racrabbe3/thumbnails/d44ac1207c75b849564bac358bf2a557-9966baee17cb5b43ba9b00b5b96ff171:getPixels\"/>"
            ],
            "text/plain": [
              "<IPython.core.display.Image object>"
            ]
          },
          "metadata": {}
        },
        {
          "output_type": "stream",
          "name": "stdout",
          "text": [
            "Image # 2 2018-11-08\n"
          ]
        },
        {
          "output_type": "display_data",
          "data": {
            "text/html": [
              "<img src=\"https://earthengine.googleapis.com/v1/projects/ee-racrabbe3/thumbnails/0af657951e75d5b52c66d5d2ff4f949c-d2a4cc3dbdda1431650b4a345f310ae2:getPixels\"/>"
            ],
            "text/plain": [
              "<IPython.core.display.Image object>"
            ]
          },
          "metadata": {}
        },
        {
          "output_type": "stream",
          "name": "stdout",
          "text": [
            "Image # 5 2018-12-26\n"
          ]
        },
        {
          "output_type": "display_data",
          "data": {
            "text/html": [
              "<img src=\"https://earthengine.googleapis.com/v1/projects/ee-racrabbe3/thumbnails/0a5ac8aa3196ef32a4fb5d76246f621c-af5237c3bca30c17d14efc33787a87aa:getPixels\"/>"
            ],
            "text/plain": [
              "<IPython.core.display.Image object>"
            ]
          },
          "metadata": {}
        }
      ]
    },
    {
      "cell_type": "markdown",
      "source": [
        "## Folium"
      ],
      "metadata": {
        "id": "G0WADJcDp50o"
      }
    },
    {
      "cell_type": "code",
      "source": [
        "# a simple folium map\n",
        "import folium\n",
        "\n",
        "m = folium.Map(location=[lat,lon])\n",
        "m"
      ],
      "metadata": {
        "colab": {
          "base_uri": "https://localhost:8080/",
          "height": 710
        },
        "id": "ospR3D-dp--w",
        "outputId": "55cd380f-04fd-4fc1-c226-400d851a62ab"
      },
      "execution_count": 56,
      "outputs": [
        {
          "output_type": "execute_result",
          "data": {
            "text/plain": [
              "<folium.folium.Map at 0x7a2928f6f150>"
            ],
            "text/html": [
              "<div style=\"width:100%;\"><div style=\"position:relative;width:100%;height:0;padding-bottom:60%;\"><span style=\"color:#565656\">Make this Notebook Trusted to load map: File -> Trust Notebook</span><iframe srcdoc=\"&lt;!DOCTYPE html&gt;\n",
              "&lt;html&gt;\n",
              "&lt;head&gt;\n",
              "    \n",
              "    &lt;meta http-equiv=&quot;content-type&quot; content=&quot;text/html; charset=UTF-8&quot; /&gt;\n",
              "    &lt;script src=&quot;https://cdn.jsdelivr.net/npm/leaflet@1.9.3/dist/leaflet.js&quot;&gt;&lt;/script&gt;\n",
              "    &lt;script src=&quot;https://code.jquery.com/jquery-3.7.1.min.js&quot;&gt;&lt;/script&gt;\n",
              "    &lt;script src=&quot;https://cdn.jsdelivr.net/npm/bootstrap@5.2.2/dist/js/bootstrap.bundle.min.js&quot;&gt;&lt;/script&gt;\n",
              "    &lt;script src=&quot;https://cdnjs.cloudflare.com/ajax/libs/Leaflet.awesome-markers/2.0.2/leaflet.awesome-markers.js&quot;&gt;&lt;/script&gt;\n",
              "    &lt;link rel=&quot;stylesheet&quot; href=&quot;https://cdn.jsdelivr.net/npm/leaflet@1.9.3/dist/leaflet.css&quot;/&gt;\n",
              "    &lt;link rel=&quot;stylesheet&quot; href=&quot;https://cdn.jsdelivr.net/npm/bootstrap@5.2.2/dist/css/bootstrap.min.css&quot;/&gt;\n",
              "    &lt;link rel=&quot;stylesheet&quot; href=&quot;https://netdna.bootstrapcdn.com/bootstrap/3.0.0/css/bootstrap-glyphicons.css&quot;/&gt;\n",
              "    &lt;link rel=&quot;stylesheet&quot; href=&quot;https://cdn.jsdelivr.net/npm/@fortawesome/fontawesome-free@6.2.0/css/all.min.css&quot;/&gt;\n",
              "    &lt;link rel=&quot;stylesheet&quot; href=&quot;https://cdnjs.cloudflare.com/ajax/libs/Leaflet.awesome-markers/2.0.2/leaflet.awesome-markers.css&quot;/&gt;\n",
              "    &lt;link rel=&quot;stylesheet&quot; href=&quot;https://cdn.jsdelivr.net/gh/python-visualization/folium/folium/templates/leaflet.awesome.rotate.min.css&quot;/&gt;\n",
              "    \n",
              "            &lt;meta name=&quot;viewport&quot; content=&quot;width=device-width,\n",
              "                initial-scale=1.0, maximum-scale=1.0, user-scalable=no&quot; /&gt;\n",
              "            &lt;style&gt;\n",
              "                #map_9d0684523cdce6f7942edbd9b8ed7144 {\n",
              "                    position: relative;\n",
              "                    width: 100.0%;\n",
              "                    height: 100.0%;\n",
              "                    left: 0.0%;\n",
              "                    top: 0.0%;\n",
              "                }\n",
              "                .leaflet-container { font-size: 1rem; }\n",
              "            &lt;/style&gt;\n",
              "\n",
              "            &lt;style&gt;html, body {\n",
              "                width: 100%;\n",
              "                height: 100%;\n",
              "                margin: 0;\n",
              "                padding: 0;\n",
              "            }\n",
              "            &lt;/style&gt;\n",
              "\n",
              "            &lt;style&gt;#map {\n",
              "                position:absolute;\n",
              "                top:0;\n",
              "                bottom:0;\n",
              "                right:0;\n",
              "                left:0;\n",
              "                }\n",
              "            &lt;/style&gt;\n",
              "\n",
              "            &lt;script&gt;\n",
              "                L_NO_TOUCH = false;\n",
              "                L_DISABLE_3D = false;\n",
              "            &lt;/script&gt;\n",
              "\n",
              "        \n",
              "&lt;/head&gt;\n",
              "&lt;body&gt;\n",
              "    \n",
              "    \n",
              "            &lt;div class=&quot;folium-map&quot; id=&quot;map_9d0684523cdce6f7942edbd9b8ed7144&quot; &gt;&lt;/div&gt;\n",
              "        \n",
              "&lt;/body&gt;\n",
              "&lt;script&gt;\n",
              "    \n",
              "    \n",
              "            var map_9d0684523cdce6f7942edbd9b8ed7144 = L.map(\n",
              "                &quot;map_9d0684523cdce6f7942edbd9b8ed7144&quot;,\n",
              "                {\n",
              "                    center: [39.444012, -121.833619],\n",
              "                    crs: L.CRS.EPSG3857,\n",
              "                    ...{\n",
              "  &quot;zoom&quot;: 10,\n",
              "  &quot;zoomControl&quot;: true,\n",
              "  &quot;preferCanvas&quot;: false,\n",
              "}\n",
              "\n",
              "                }\n",
              "            );\n",
              "\n",
              "            \n",
              "\n",
              "        \n",
              "    \n",
              "            var tile_layer_851dba363998370fcc270be1870a4a0e = L.tileLayer(\n",
              "                &quot;https://tile.openstreetmap.org/{z}/{x}/{y}.png&quot;,\n",
              "                {\n",
              "  &quot;minZoom&quot;: 0,\n",
              "  &quot;maxZoom&quot;: 19,\n",
              "  &quot;maxNativeZoom&quot;: 19,\n",
              "  &quot;noWrap&quot;: false,\n",
              "  &quot;attribution&quot;: &quot;\\u0026copy; \\u003ca href=\\&quot;https://www.openstreetmap.org/copyright\\&quot;\\u003eOpenStreetMap\\u003c/a\\u003e contributors&quot;,\n",
              "  &quot;subdomains&quot;: &quot;abc&quot;,\n",
              "  &quot;detectRetina&quot;: false,\n",
              "  &quot;tms&quot;: false,\n",
              "  &quot;opacity&quot;: 1,\n",
              "}\n",
              "\n",
              "            );\n",
              "        \n",
              "    \n",
              "            tile_layer_851dba363998370fcc270be1870a4a0e.addTo(map_9d0684523cdce6f7942edbd9b8ed7144);\n",
              "        \n",
              "&lt;/script&gt;\n",
              "&lt;/html&gt;\" style=\"position:absolute;width:100%;height:100%;left:0;top:0;border:none !important;\" allowfullscreen webkitallowfullscreen mozallowfullscreen></iframe></div></div>"
            ]
          },
          "metadata": {},
          "execution_count": 56
        }
      ]
    },
    {
      "cell_type": "code",
      "source": [
        "# Google function that allows ee layers on folium\n",
        "def add_ee_layer(self, ee_image_object, vis_params, name):\n",
        "    \"\"\"Adds a method for displaying Earth Engine image tiles to folium map.\"\"\"\n",
        "    map_id_dict = ee.Image(ee_image_object).getMapId(vis_params)\n",
        "    folium.raster_layers.TileLayer(\n",
        "        tiles=map_id_dict['tile_fetcher'].url_format,\n",
        "        attr='Map Data &copy; <a href=\"https://earthengine.google.com/\">Google Earth Engine</a>',\n",
        "        name=name,\n",
        "        overlay=True,\n",
        "        control=True\n",
        "    ).add_to(self)\n",
        "\n",
        "# Add Earth Engine drawing method to folium\n",
        "folium.Map.add_ee_layer = add_ee_layer"
      ],
      "metadata": {
        "id": "2YpJ8VsyqSHx"
      },
      "execution_count": 51,
      "outputs": []
    },
    {
      "cell_type": "code",
      "source": [
        "# Create a map\n",
        "my_map = folium.Map(location=[lat, lon], zoom_start=10)\n",
        "\n",
        "# Add a layer for each satellite image of interest (before, during and after)\n",
        "for i in landsat_sequence:\n",
        "\n",
        "    # when was this image taken?\n",
        "    date = ee.Image(landsat_list.get(i)).get('DATE_ACQUIRED').getInfo()\n",
        "\n",
        "    my_map.add_ee_layer(ee.Image(landsat_list.get(i)).normalizedDifference(['SR_B5', 'SR_B4']),\n",
        "                        ndvi_parameters,\n",
        "                        name=date)\n",
        "\n",
        "# Add a layer control panel to the map\n",
        "folium.LayerControl(collapsed = False).add_to(my_map)\n",
        "\n",
        "# Display the map.\n",
        "display(my_map)"
      ],
      "metadata": {
        "colab": {
          "base_uri": "https://localhost:8080/",
          "height": 710
        },
        "id": "Q8eE8H2cqYGz",
        "outputId": "fa358deb-a3f3-4d41-b294-76b9d1df4935"
      },
      "execution_count": 57,
      "outputs": [
        {
          "output_type": "display_data",
          "data": {
            "text/plain": [
              "<folium.folium.Map at 0x7a2928e2d450>"
            ],
            "text/html": [
              "<div style=\"width:100%;\"><div style=\"position:relative;width:100%;height:0;padding-bottom:60%;\"><span style=\"color:#565656\">Make this Notebook Trusted to load map: File -> Trust Notebook</span><iframe srcdoc=\"&lt;!DOCTYPE html&gt;\n",
              "&lt;html&gt;\n",
              "&lt;head&gt;\n",
              "    \n",
              "    &lt;meta http-equiv=&quot;content-type&quot; content=&quot;text/html; charset=UTF-8&quot; /&gt;\n",
              "    &lt;script src=&quot;https://cdn.jsdelivr.net/npm/leaflet@1.9.3/dist/leaflet.js&quot;&gt;&lt;/script&gt;\n",
              "    &lt;script src=&quot;https://code.jquery.com/jquery-3.7.1.min.js&quot;&gt;&lt;/script&gt;\n",
              "    &lt;script src=&quot;https://cdn.jsdelivr.net/npm/bootstrap@5.2.2/dist/js/bootstrap.bundle.min.js&quot;&gt;&lt;/script&gt;\n",
              "    &lt;script src=&quot;https://cdnjs.cloudflare.com/ajax/libs/Leaflet.awesome-markers/2.0.2/leaflet.awesome-markers.js&quot;&gt;&lt;/script&gt;\n",
              "    &lt;link rel=&quot;stylesheet&quot; href=&quot;https://cdn.jsdelivr.net/npm/leaflet@1.9.3/dist/leaflet.css&quot;/&gt;\n",
              "    &lt;link rel=&quot;stylesheet&quot; href=&quot;https://cdn.jsdelivr.net/npm/bootstrap@5.2.2/dist/css/bootstrap.min.css&quot;/&gt;\n",
              "    &lt;link rel=&quot;stylesheet&quot; href=&quot;https://netdna.bootstrapcdn.com/bootstrap/3.0.0/css/bootstrap-glyphicons.css&quot;/&gt;\n",
              "    &lt;link rel=&quot;stylesheet&quot; href=&quot;https://cdn.jsdelivr.net/npm/@fortawesome/fontawesome-free@6.2.0/css/all.min.css&quot;/&gt;\n",
              "    &lt;link rel=&quot;stylesheet&quot; href=&quot;https://cdnjs.cloudflare.com/ajax/libs/Leaflet.awesome-markers/2.0.2/leaflet.awesome-markers.css&quot;/&gt;\n",
              "    &lt;link rel=&quot;stylesheet&quot; href=&quot;https://cdn.jsdelivr.net/gh/python-visualization/folium/folium/templates/leaflet.awesome.rotate.min.css&quot;/&gt;\n",
              "    \n",
              "            &lt;meta name=&quot;viewport&quot; content=&quot;width=device-width,\n",
              "                initial-scale=1.0, maximum-scale=1.0, user-scalable=no&quot; /&gt;\n",
              "            &lt;style&gt;\n",
              "                #map_5665b0d6213e532d8a2b4eafbf148ca5 {\n",
              "                    position: relative;\n",
              "                    width: 100.0%;\n",
              "                    height: 100.0%;\n",
              "                    left: 0.0%;\n",
              "                    top: 0.0%;\n",
              "                }\n",
              "                .leaflet-container { font-size: 1rem; }\n",
              "            &lt;/style&gt;\n",
              "\n",
              "            &lt;style&gt;html, body {\n",
              "                width: 100%;\n",
              "                height: 100%;\n",
              "                margin: 0;\n",
              "                padding: 0;\n",
              "            }\n",
              "            &lt;/style&gt;\n",
              "\n",
              "            &lt;style&gt;#map {\n",
              "                position:absolute;\n",
              "                top:0;\n",
              "                bottom:0;\n",
              "                right:0;\n",
              "                left:0;\n",
              "                }\n",
              "            &lt;/style&gt;\n",
              "\n",
              "            &lt;script&gt;\n",
              "                L_NO_TOUCH = false;\n",
              "                L_DISABLE_3D = false;\n",
              "            &lt;/script&gt;\n",
              "\n",
              "        \n",
              "&lt;/head&gt;\n",
              "&lt;body&gt;\n",
              "    \n",
              "    \n",
              "            &lt;div class=&quot;folium-map&quot; id=&quot;map_5665b0d6213e532d8a2b4eafbf148ca5&quot; &gt;&lt;/div&gt;\n",
              "        \n",
              "&lt;/body&gt;\n",
              "&lt;script&gt;\n",
              "    \n",
              "    \n",
              "            var map_5665b0d6213e532d8a2b4eafbf148ca5 = L.map(\n",
              "                &quot;map_5665b0d6213e532d8a2b4eafbf148ca5&quot;,\n",
              "                {\n",
              "                    center: [39.444012, -121.833619],\n",
              "                    crs: L.CRS.EPSG3857,\n",
              "                    ...{\n",
              "  &quot;zoom&quot;: 10,\n",
              "  &quot;zoomControl&quot;: true,\n",
              "  &quot;preferCanvas&quot;: false,\n",
              "}\n",
              "\n",
              "                }\n",
              "            );\n",
              "\n",
              "            \n",
              "\n",
              "        \n",
              "    \n",
              "            var tile_layer_281ebe5f256335a96fe4f8524bbdf240 = L.tileLayer(\n",
              "                &quot;https://tile.openstreetmap.org/{z}/{x}/{y}.png&quot;,\n",
              "                {\n",
              "  &quot;minZoom&quot;: 0,\n",
              "  &quot;maxZoom&quot;: 19,\n",
              "  &quot;maxNativeZoom&quot;: 19,\n",
              "  &quot;noWrap&quot;: false,\n",
              "  &quot;attribution&quot;: &quot;\\u0026copy; \\u003ca href=\\&quot;https://www.openstreetmap.org/copyright\\&quot;\\u003eOpenStreetMap\\u003c/a\\u003e contributors&quot;,\n",
              "  &quot;subdomains&quot;: &quot;abc&quot;,\n",
              "  &quot;detectRetina&quot;: false,\n",
              "  &quot;tms&quot;: false,\n",
              "  &quot;opacity&quot;: 1,\n",
              "}\n",
              "\n",
              "            );\n",
              "        \n",
              "    \n",
              "            tile_layer_281ebe5f256335a96fe4f8524bbdf240.addTo(map_5665b0d6213e532d8a2b4eafbf148ca5);\n",
              "        \n",
              "    \n",
              "            var tile_layer_72207258d6f9de48096699d40a626bdc = L.tileLayer(\n",
              "                &quot;https://earthengine.googleapis.com/v1/projects/ee-racrabbe3/maps/7fd00340e2395e3384f28289dec5fd42-2a08ae01c24ea44522fa0defac725787/tiles/{z}/{x}/{y}&quot;,\n",
              "                {\n",
              "  &quot;minZoom&quot;: 0,\n",
              "  &quot;maxZoom&quot;: 18,\n",
              "  &quot;maxNativeZoom&quot;: 18,\n",
              "  &quot;noWrap&quot;: false,\n",
              "  &quot;attribution&quot;: &quot;Map Data \\u0026copy; \\u003ca href=\\&quot;https://earthengine.google.com/\\&quot;\\u003eGoogle Earth Engine\\u003c/a\\u003e&quot;,\n",
              "  &quot;subdomains&quot;: &quot;abc&quot;,\n",
              "  &quot;detectRetina&quot;: false,\n",
              "  &quot;tms&quot;: false,\n",
              "  &quot;opacity&quot;: 1,\n",
              "}\n",
              "\n",
              "            );\n",
              "        \n",
              "    \n",
              "            tile_layer_72207258d6f9de48096699d40a626bdc.addTo(map_5665b0d6213e532d8a2b4eafbf148ca5);\n",
              "        \n",
              "    \n",
              "            var tile_layer_db6df4ce99a0cd7610efd1cbc4a41f51 = L.tileLayer(\n",
              "                &quot;https://earthengine.googleapis.com/v1/projects/ee-racrabbe3/maps/a18518482452a763adbdebec66e87a95-4b0a6ceea858487e89dc3fe8b3d8216c/tiles/{z}/{x}/{y}&quot;,\n",
              "                {\n",
              "  &quot;minZoom&quot;: 0,\n",
              "  &quot;maxZoom&quot;: 18,\n",
              "  &quot;maxNativeZoom&quot;: 18,\n",
              "  &quot;noWrap&quot;: false,\n",
              "  &quot;attribution&quot;: &quot;Map Data \\u0026copy; \\u003ca href=\\&quot;https://earthengine.google.com/\\&quot;\\u003eGoogle Earth Engine\\u003c/a\\u003e&quot;,\n",
              "  &quot;subdomains&quot;: &quot;abc&quot;,\n",
              "  &quot;detectRetina&quot;: false,\n",
              "  &quot;tms&quot;: false,\n",
              "  &quot;opacity&quot;: 1,\n",
              "}\n",
              "\n",
              "            );\n",
              "        \n",
              "    \n",
              "            tile_layer_db6df4ce99a0cd7610efd1cbc4a41f51.addTo(map_5665b0d6213e532d8a2b4eafbf148ca5);\n",
              "        \n",
              "    \n",
              "            var tile_layer_f769a3749c6576cd9dc310fe4829a868 = L.tileLayer(\n",
              "                &quot;https://earthengine.googleapis.com/v1/projects/ee-racrabbe3/maps/93387a10c1e91f110b02516c3a799b08-05d7f9bc43285ddbe0c15624c4863b09/tiles/{z}/{x}/{y}&quot;,\n",
              "                {\n",
              "  &quot;minZoom&quot;: 0,\n",
              "  &quot;maxZoom&quot;: 18,\n",
              "  &quot;maxNativeZoom&quot;: 18,\n",
              "  &quot;noWrap&quot;: false,\n",
              "  &quot;attribution&quot;: &quot;Map Data \\u0026copy; \\u003ca href=\\&quot;https://earthengine.google.com/\\&quot;\\u003eGoogle Earth Engine\\u003c/a\\u003e&quot;,\n",
              "  &quot;subdomains&quot;: &quot;abc&quot;,\n",
              "  &quot;detectRetina&quot;: false,\n",
              "  &quot;tms&quot;: false,\n",
              "  &quot;opacity&quot;: 1,\n",
              "}\n",
              "\n",
              "            );\n",
              "        \n",
              "    \n",
              "            tile_layer_f769a3749c6576cd9dc310fe4829a868.addTo(map_5665b0d6213e532d8a2b4eafbf148ca5);\n",
              "        \n",
              "    \n",
              "            var layer_control_e19175ddcda62367a7b6bf2712130070_layers = {\n",
              "                base_layers : {\n",
              "                    &quot;openstreetmap&quot; : tile_layer_281ebe5f256335a96fe4f8524bbdf240,\n",
              "                },\n",
              "                overlays :  {\n",
              "                    &quot;2018-10-07&quot; : tile_layer_72207258d6f9de48096699d40a626bdc,\n",
              "                    &quot;2018-11-08&quot; : tile_layer_db6df4ce99a0cd7610efd1cbc4a41f51,\n",
              "                    &quot;2018-12-26&quot; : tile_layer_f769a3749c6576cd9dc310fe4829a868,\n",
              "                },\n",
              "            };\n",
              "            let layer_control_e19175ddcda62367a7b6bf2712130070 = L.control.layers(\n",
              "                layer_control_e19175ddcda62367a7b6bf2712130070_layers.base_layers,\n",
              "                layer_control_e19175ddcda62367a7b6bf2712130070_layers.overlays,\n",
              "                {\n",
              "  &quot;position&quot;: &quot;topright&quot;,\n",
              "  &quot;collapsed&quot;: false,\n",
              "  &quot;autoZIndex&quot;: true,\n",
              "}\n",
              "            ).addTo(map_5665b0d6213e532d8a2b4eafbf148ca5);\n",
              "\n",
              "        \n",
              "&lt;/script&gt;\n",
              "&lt;/html&gt;\" style=\"position:absolute;width:100%;height:100%;left:0;top:0;border:none !important;\" allowfullscreen webkitallowfullscreen mozallowfullscreen></iframe></div></div>"
            ]
          },
          "metadata": {}
        }
      ]
    },
    {
      "cell_type": "code",
      "source": [
        "#save the folium map as an HTML file\n",
        "my_map.save('camp.html')"
      ],
      "metadata": {
        "id": "ACatIRq1qiFw"
      },
      "execution_count": 54,
      "outputs": []
    }
  ]
}
