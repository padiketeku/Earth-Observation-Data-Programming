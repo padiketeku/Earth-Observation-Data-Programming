{
  "nbformat": 4,
  "nbformat_minor": 0,
  "metadata": {
    "colab": {
      "provenance": [],
      "authorship_tag": "ABX9TyNm899p437MRRpT9bs00ce+",
      "include_colab_link": true
    },
    "kernelspec": {
      "name": "python3",
      "display_name": "Python 3"
    },
    "language_info": {
      "name": "python"
    }
  },
  "cells": [
    {
      "cell_type": "markdown",
      "metadata": {
        "id": "view-in-github",
        "colab_type": "text"
      },
      "source": [
        "<a href=\"https://colab.research.google.com/github/padiketeku/Earth-Observation-Data-Programming/blob/main/Activity-02-Exploring-COLAB-Part2.ipynb\" target=\"_parent\"><img src=\"https://colab.research.google.com/assets/colab-badge.svg\" alt=\"Open In Colab\"/></a>"
      ]
    },
    {
      "cell_type": "code",
      "execution_count": 1,
      "metadata": {
        "id": "hyBRvo7e_A9F"
      },
      "outputs": [],
      "source": [
        "# the regulars\n",
        "import pandas as pd\n",
        "import geopandas as gpd\n",
        "\n",
        "# earth engine\n",
        "import ee\n",
        "\n",
        "# allow images to display in the notebook\n",
        "from IPython.display import Image"
      ]
    },
    {
      "cell_type": "code",
      "source": [
        "# Trigger the authentication flow.\n",
        "ee.Authenticate()\n",
        "\n",
        "# Initialize the library.\n",
        "ee.Initialize(project='ee-racrabbe3')"
      ],
      "metadata": {
        "id": "jaXJVBiR_wF6"
      },
      "execution_count": 10,
      "outputs": []
    }
  ]
}